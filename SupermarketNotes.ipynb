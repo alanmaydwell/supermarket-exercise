{
 "cells": [
  {
   "cell_type": "markdown",
   "id": "a6965c76-fe5e-4200-b93a-319cc1828369",
   "metadata": {},
   "source": [
    "# Supermarket Exercise Notes"
   ]
  },
  {
   "cell_type": "markdown",
   "id": "372862bb-c7e5-4d06-b02e-79bed464177e",
   "metadata": {},
   "source": [
    "### Things we know from description\n",
    "- only three products currently:\n",
    "  - FR1 Fruit Tea £3.11\n",
    "  - SR1 Strawberries £5.00\n",
    "  - CF1 Coffee £11.23\n",
    "- CEO wants bogof for fruit tea\n",
    "- COO wants discount for strawberries with price dropping to £4.50 when 3 or more purchased\n",
    "- Items can be scanned in any order\n",
    "- Need to be flexible becuase (a) could be new/changed special offers (b) new or different products could be added\n"
   ]
  },
  {
   "cell_type": "markdown",
   "id": "285d2e02-f79d-45ba-80d2-fe13f9df4e83",
   "metadata": {},
   "source": [
    "## Things not clear\n",
    "- Number/range of new products     \n",
    "*just stick to the 3 above for now but bear in mind need to add more*\n",
    "- The value of the product codes when we only have 3 prodcuts with simple and distinct names.     \n",
    "*just stick to 3 above for now*\n",
    "- How the strawberry discount works. When >=3 is reduced price for all strawberries or just from the 3rd onwards?   \n",
    "*assume applied to all strawberries*\n",
    "- How are the discounts applied? (a) Calculate full price and subtract discount separately or (b) all in one   \n",
    "*all in one for now*\n",
    "- How and when are prices calculated/displayed  ?  \n",
    "*have way of retrieving for any point in process*\n",
    "- Numerical format? Do we want figures always to two decimal places?    \n",
    "*don't worry to start with. may add later*\n",
    "- Don't have full details of the checkout process.   \n",
    "*make do without. keep minimal and make asumptions based on how checkouts generally work*"
   ]
  },
  {
   "cell_type": "markdown",
   "id": "464f46b3-d53b-4eab-812d-0efcfe9c4315",
   "metadata": {},
   "source": [
    "## To Do\n",
    "\n",
    "- Add items to basket\n",
    "- Pricing for Fruit Tea\n",
    "- Pricing for Strawberries\n",
    "- Pricing for Coffee\n",
    "- Some way of displaying the price as necessary for the demo\n",
    "- Some automated checks\n",
    "  - done for pricing functions\n",
    "- Updating this document\n",
    "\n",
    "#### Extra\n",
    "Could run tests using Github action"
   ]
  },
  {
   "cell_type": "code",
   "execution_count": 3,
   "id": "552363dc-30d0-4a9d-9230-c089196fd9af",
   "metadata": {},
   "outputs": [
    {
     "data": {
      "text/plain": [
       "13.5"
      ]
     },
     "execution_count": 3,
     "metadata": {},
     "output_type": "execute_result"
    }
   ],
   "source": [
    "4.50*3"
   ]
  },
  {
   "cell_type": "code",
   "execution_count": null,
   "id": "0de6e410-16b0-41db-9119-cadb879e5109",
   "metadata": {},
   "outputs": [],
   "source": []
  }
 ],
 "metadata": {
  "kernelspec": {
   "display_name": "Python 3 (ipykernel)",
   "language": "python",
   "name": "python3"
  },
  "language_info": {
   "codemirror_mode": {
    "name": "ipython",
    "version": 3
   },
   "file_extension": ".py",
   "mimetype": "text/x-python",
   "name": "python",
   "nbconvert_exporter": "python",
   "pygments_lexer": "ipython3",
   "version": "3.9.13"
  }
 },
 "nbformat": 4,
 "nbformat_minor": 5
}

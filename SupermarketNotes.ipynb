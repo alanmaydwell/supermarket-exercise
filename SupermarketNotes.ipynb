{
 "cells": [
  {
   "cell_type": "markdown",
   "id": "a6965c76-fe5e-4200-b93a-319cc1828369",
   "metadata": {},
   "source": [
    "# Supermarket Exercise Notes"
   ]
  },
  {
   "cell_type": "markdown",
   "id": "372862bb-c7e5-4d06-b02e-79bed464177e",
   "metadata": {},
   "source": [
    "### Things we know from description\n",
    "- only three products currently:\n",
    "  - FR1 Fruit Tea £3.11\n",
    "  - SR1 Strawberries £5.00\n",
    "  - CF1 Coffee £11.23\n",
    "- CEO wants bogof for fruit tea\n",
    "- COO wants discount for strawberries with price dropping to £4.50 when 3 or more purchased\n",
    "- Items can be scanned in any order\n",
    "- Need to be flexible becuase (a) could be new/changed special offers (b) new or different products could be added\n"
   ]
  },
  {
   "cell_type": "markdown",
   "id": "285d2e02-f79d-45ba-80d2-fe13f9df4e83",
   "metadata": {},
   "source": [
    "## Things not clear\n",
    "- Number/range of new products     \n",
    "*just stick to the 3 above for now but bear in mind need to add more*\n",
    "- The value of the product codes when we only have 3 prodcuts with simple and distinct names.     \n",
    "*just stick to 3 above for now*\n",
    "- How the strawberry discount works. When >=3 is reduced price for all strawberries or just from the 3rd onwards?   \n",
    "*assume applied to all strawberries*\n",
    "- How are the discounts applied? (a) Calculate full price and subtract discount separately or (b) all in one   \n",
    "*all in one for now*\n",
    "- How and when are prices calculated/displayed  ?  \n",
    "*have way of retrieving for any point in process*\n",
    "- Numerical format? Do we want figures always to two decimal places?    \n",
    "*don't worry to start with. may add later*\n",
    "- Don't have full details of the checkout process.   \n",
    "*make do without. keep minimal and make asumptions based on how checkouts generally work*"
   ]
  },
  {
   "cell_type": "markdown",
   "id": "49b1f55b-44e5-4d78-a244-035412f8cc53",
   "metadata": {},
   "source": [
    "## General Thoughs\n",
    "\n",
    "- Try to keep things simple as\n",
    "    - only meant to be a quick exercise\n",
    "    - we don't have full details, avoild something elaborate based on incorrect assumptions\n",
    "\n",
    "- Pricing may be subject to change,keep separate so it can be changed independetly of everything else. Also keep simple for same reasons as above"
   ]
  },
  {
   "cell_type": "markdown",
   "id": "464f46b3-d53b-4eab-812d-0efcfe9c4315",
   "metadata": {},
   "source": [
    "## To Do\n",
    "\n",
    "- Add items to basket    \n",
    "**Done**\n",
    "- Pricing for Fruit Tea  \n",
    "**Done**\n",
    "- Pricing for Strawberries  \n",
    "**Done**\n",
    "- Pricing for Coffee   \n",
    "**Done** \n",
    "- Some way of displaying the price, as necessary for the demo   \n",
    "**Done**\n",
    "- Some automated checks    \n",
    "**Done** but could be expanded\n",
    "- Updating this document   \n",
    "**Done** but could add more\n",
    "#### Extra\n",
    "Could run tests using Github action    \n",
    "**Not done**"
   ]
  },
  {
   "cell_type": "markdown",
   "id": "8edfaf9c-e52c-4d4e-b26e-7300ade290f1",
   "metadata": {},
   "source": [
    "## What's been created on the basis of the above?\n",
    "- **supermarket.py** - the actual shopping basket\n",
    "- **pricing.py** - contains three pricing functions uses by the shopping basket\n",
    "- **checkout_checks.txt** - doctest tests for supermarket checkout\n",
    "- **pricing_checks.txt** - doctest tests for pricing functions\n",
    "- **SupermarketNotes.ipynb** - this very notebook"
   ]
  },
  {
   "cell_type": "markdown",
   "id": "0c38f397-f214-4c21-bc0b-2dec46d6195c",
   "metadata": {
    "tags": []
   },
   "source": [
    "## Example of working\n",
    "### Pricing Functions from pricing.py\n",
    "Three functions: `simple, bogof, special_sr1`"
   ]
  },
  {
   "cell_type": "code",
   "execution_count": 2,
   "id": "7e20e59b-94e5-4cc8-b5df-db06757dabc5",
   "metadata": {
    "tags": []
   },
   "outputs": [],
   "source": [
    "import pricing"
   ]
  },
  {
   "cell_type": "markdown",
   "id": "547d0808-bee0-4ac9-9de5-666bf1fc6fbd",
   "metadata": {},
   "source": [
    "#### Simple"
   ]
  },
  {
   "cell_type": "code",
   "execution_count": 3,
   "id": "d80b5cf2-ed7b-4d8b-995f-8013137755d1",
   "metadata": {},
   "outputs": [
    {
     "data": {
      "text/plain": [
       "2"
      ]
     },
     "execution_count": 3,
     "metadata": {},
     "output_type": "execute_result"
    }
   ],
   "source": [
    "pricing.simple(1, 2)"
   ]
  },
  {
   "cell_type": "code",
   "execution_count": 5,
   "id": "aec63d10-5f19-4889-adc0-e6a3be7f4c38",
   "metadata": {},
   "outputs": [
    {
     "data": {
      "text/plain": [
       "30"
      ]
     },
     "execution_count": 5,
     "metadata": {},
     "output_type": "execute_result"
    }
   ],
   "source": [
    "pricing.simple(10, 3)"
   ]
  },
  {
   "cell_type": "markdown",
   "id": "71851e7f-0d00-4c22-8c43-a8c93719890c",
   "metadata": {},
   "source": [
    "#### BOGOF"
   ]
  },
  {
   "cell_type": "code",
   "execution_count": 15,
   "id": "afa74643-52cd-4dfe-9436-357169a2de74",
   "metadata": {},
   "outputs": [
    {
     "name": "stdout",
     "output_type": "stream",
     "text": [
      "0  0\n",
      "1  2\n",
      "2  2.0\n",
      "3  4.0\n",
      "4  4.0\n",
      "5  6.0\n",
      "6  6.0\n",
      "7  8.0\n",
      "8  8.0\n",
      "9  10.0\n",
      "10  10.0\n"
     ]
    }
   ],
   "source": [
    "for quantity in range(11):\n",
    "    price = pricing.bogof(quantity, 2)\n",
    "    print(f\"{quantity}  {price}\")"
   ]
  },
  {
   "cell_type": "markdown",
   "id": "6d25d34d-01f2-404a-a873-d8aa3a413d99",
   "metadata": {},
   "source": [
    "#### Strawberry Special Offer"
   ]
  },
  {
   "cell_type": "code",
   "execution_count": 18,
   "id": "21c81ddb-5a26-4394-b158-def6aeb86d7a",
   "metadata": {},
   "outputs": [
    {
     "name": "stdout",
     "output_type": "stream",
     "text": [
      "0  0.0\n",
      "1  5.0\n",
      "2  10.0\n",
      "3  13.5\n",
      "4  18.0\n",
      "5  22.5\n",
      "6  27.0\n",
      "7  31.5\n",
      "8  36.0\n",
      "9  40.5\n",
      "10  45.0\n"
     ]
    }
   ],
   "source": [
    "for quantity in range(11):\n",
    "    price = pricing.special_sr1(quantity, 5.00)\n",
    "    print(f\"{quantity}  {price}\")"
   ]
  },
  {
   "cell_type": "markdown",
   "id": "dcd5a0b2-3758-418f-a8a7-d89badb3bb35",
   "metadata": {
    "tags": []
   },
   "source": [
    "### The Checkout\n",
    "Item code reminder\n",
    "```\n",
    "products = {\"FR1\": \"Fruit tea\",\n",
    "            \"SR1\": \"Strawberries\",\n",
    "            \"CF1\": \"Coffee\"}\n",
    "```"
   ]
  },
  {
   "cell_type": "code",
   "execution_count": 20,
   "id": "bebfb6ac-aa00-4ee9-bad6-00d85db6f4f0",
   "metadata": {},
   "outputs": [],
   "source": [
    "import supermarket"
   ]
  },
  {
   "cell_type": "code",
   "execution_count": 30,
   "id": "0c161d7a-9596-4eee-91f6-97f026ea57df",
   "metadata": {},
   "outputs": [],
   "source": [
    "checkout = supermarket.Checkout()"
   ]
  },
  {
   "cell_type": "markdown",
   "id": "05447a7e-9e8a-4b02-a3be-2d59ab5923b6",
   "metadata": {},
   "source": [
    "#### Adding items to basket"
   ]
  },
  {
   "cell_type": "code",
   "execution_count": 31,
   "id": "75794bd7-f8ba-4aa9-ab01-aae7fc9a3de1",
   "metadata": {},
   "outputs": [
    {
     "name": "stdout",
     "output_type": "stream",
     "text": [
      "{'FR1': 1, 'SR1': 0, 'CF1': 0}\n"
     ]
    }
   ],
   "source": [
    "checkout.add_item(\"FR1\")\n",
    "print(checkout.items)"
   ]
  },
  {
   "cell_type": "code",
   "execution_count": 32,
   "id": "a380ac05-17de-44b1-b482-7da0b3a9dcc6",
   "metadata": {},
   "outputs": [
    {
     "name": "stdout",
     "output_type": "stream",
     "text": [
      "{'FR1': 1, 'SR1': 5, 'CF1': 0}\n"
     ]
    }
   ],
   "source": [
    "checkout.add_item(\"SR1\", 5)\n",
    "print(checkout.items)"
   ]
  },
  {
   "cell_type": "code",
   "execution_count": 33,
   "id": "f62b5b39-7c18-4b54-9aa1-775f1a4939fb",
   "metadata": {},
   "outputs": [
    {
     "name": "stdout",
     "output_type": "stream",
     "text": [
      "{'FR1': 1, 'SR1': 5, 'CF1': 2}\n"
     ]
    }
   ],
   "source": [
    "checkout.add_item(\"CF1\", 2)\n",
    "print(checkout.items)"
   ]
  },
  {
   "cell_type": "code",
   "execution_count": 34,
   "id": "4479dff7-d93f-4341-90a6-1b181b57c7db",
   "metadata": {},
   "outputs": [
    {
     "name": "stdout",
     "output_type": "stream",
     "text": [
      "{'FR1': 3, 'SR1': 5, 'CF1': 2}\n"
     ]
    }
   ],
   "source": [
    "checkout.add_item(\"FR1\", 2)\n",
    "print(checkout.items)"
   ]
  },
  {
   "cell_type": "markdown",
   "id": "10a9bddd-844f-4f33-b6f7-13669b40fb16",
   "metadata": {},
   "source": [
    "#### Calculate Fee"
   ]
  },
  {
   "cell_type": "code",
   "execution_count": 35,
   "id": "59ff000c-04d2-4e4d-9f04-909d2af2431b",
   "metadata": {},
   "outputs": [
    {
     "name": "stdout",
     "output_type": "stream",
     "text": [
      "Total: 51.18\n",
      "Fruit tea: 6.22\n",
      "Strawberries: 22.50\n",
      "Coffee: 22.46\n"
     ]
    }
   ],
   "source": [
    "checkout.show_prices()"
   ]
  },
  {
   "cell_type": "markdown",
   "id": "f5165709-4f50-44b6-b98f-c03e048c146c",
   "metadata": {},
   "source": [
    "## Improvements/thoughts\n",
    "\n",
    "- Have generic way of calculating buy `n`, get `x` free\n",
    "- Have generic way of having price deductions when number of items crosses thresholds\n",
    "- Discounts that take different items into consideration, e.g. buy 2 coffees, get a free strawberry\n",
    "- Not good for realistic number of items\n",
    "- Need clearer requirements\n",
    "\n",
    "----\n",
    "\n",
    "- Currently basket has counts for all 3 items. Fine with just 3 but with actual supermarket product range likely better to only include the actual items being purchased.\n",
    "- Product types data currently just in small dictionaries in file. Could be in separate file. Could have database with details. Also on different track, could use newer Python features such as named tuples and data classes.\n",
    "- Could move (a) get_prices method calculating the basket total and (b) show_prices displaying the totals out of the Checkout class (and also rename Checkout to Basket as a more meaningful name)\n",
    "- Could have some sort of class and inheritance setup instead of the pricing functions but the simpler function structure serves for now. "
   ]
  },
  {
   "cell_type": "code",
   "execution_count": null,
   "id": "8202258e-623b-478b-8cc6-4fa10bcbccd8",
   "metadata": {},
   "outputs": [],
   "source": []
  }
 ],
 "metadata": {
  "kernelspec": {
   "display_name": "Python 3 (ipykernel)",
   "language": "python",
   "name": "python3"
  },
  "language_info": {
   "codemirror_mode": {
    "name": "ipython",
    "version": 3
   },
   "file_extension": ".py",
   "mimetype": "text/x-python",
   "name": "python",
   "nbconvert_exporter": "python",
   "pygments_lexer": "ipython3",
   "version": "3.9.13"
  }
 },
 "nbformat": 4,
 "nbformat_minor": 5
}
